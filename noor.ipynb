{
  "metadata": {
    "kernelspec": {
      "name": "python",
      "display_name": "Python (Pyodide)",
      "language": "python"
    },
    "language_info": {
      "codemirror_mode": {
        "name": "python",
        "version": 3
      },
      "file_extension": ".py",
      "mimetype": "text/x-python",
      "name": "python",
      "nbconvert_exporter": "python",
      "pygments_lexer": "ipython3",
      "version": "3.8"
    }
  },
  "nbformat_minor": 5,
  "nbformat": 4,
  "cells": [
    {
      "id": "8180164e-9d44-4db8-8a8e-71c3ccebdaf8",
      "cell_type": "code",
      "source": "def add(x, y):\n    return x + y\n\ndef subtract(x, y):\n    return x - y\n\ndef multiply(x, y):\n    return x * y\n\ndef divide(x, y):\n    if y == 0:\n        return \"Error: Division by zero!\"\n    return x / y\n\ndef calculator():\n    print(\"Simple Calculator\")\n    print(\"------------------\")\n    print(\"Select operation:\")\n    print(\"1. Add\")\n    print(\"2. Subtract\")\n    print(\"3. Multiply\")\n    print(\"4. Divide\")\n\n    choice = input(\"Enter choice (1/2/3/4): \")\n\n    if choice in ('1', '2', '3', '4'):\n        try:\n            num1 = float(input(\"Enter first number: \"))\n            num2 = float(input(\"Enter second number: \"))\n        except ValueError:\n            print(\"Invalid input! Please enter numeric values.\")\n            return\n\n        if choice == '1':\n            print(f\"Result: {num1} + {num2} = {add(num1, num2)}\")\n        elif choice == '2':\n            print(f\"Result: {num1} - {num2} = {subtract(num1, num2)}\")\n        elif choice == '3':\n            print(f\"Result: {num1} * {num2} = {multiply(num1, num2)}\")\n        elif choice == '4':\n            print(f\"Result: {num1} / {num2} = {divide(num1, num2)}\")\n    else:\n        print(\"Invalid choice! Please choose a valid operation.\")\n\nif __name__ == \"__main__\":\n    calculator()\n",
      "metadata": {
        "trusted": true
      },
      "outputs": [
        {
          "name": "stdout",
          "output_type": "stream",
          "text": "Simple Calculator\n------------------\nSelect operation:\n1. Add\n2. Subtract\n3. Multiply\n4. Divide\nInvalid choice! Please choose a valid operation.\n"
        },
        {
          "output_type": "stream",
          "name": "stdin",
          "text": "Enter choice (1/2/3/4):  add\n"
        }
      ],
      "execution_count": 4
    }
  ]
}